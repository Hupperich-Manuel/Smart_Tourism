{
 "cells": [
  {
   "cell_type": "code",
   "execution_count": 1,
   "id": "f1b1f1d9",
   "metadata": {},
   "outputs": [],
   "source": [
    "import pandas as pd"
   ]
  },
  {
   "cell_type": "code",
   "execution_count": 23,
   "id": "7c24d43f",
   "metadata": {},
   "outputs": [],
   "source": [
    "df = pd.read_csv('auth_user.csv',sep=',', header=None)"
   ]
  },
  {
   "cell_type": "code",
   "execution_count": 24,
   "id": "ee539d48",
   "metadata": {
    "scrolled": true
   },
   "outputs": [
    {
     "data": {
      "text/html": [
       "<div>\n",
       "<style scoped>\n",
       "    .dataframe tbody tr th:only-of-type {\n",
       "        vertical-align: middle;\n",
       "    }\n",
       "\n",
       "    .dataframe tbody tr th {\n",
       "        vertical-align: top;\n",
       "    }\n",
       "\n",
       "    .dataframe thead th {\n",
       "        text-align: right;\n",
       "    }\n",
       "</style>\n",
       "<table border=\"1\" class=\"dataframe\">\n",
       "  <thead>\n",
       "    <tr style=\"text-align: right;\">\n",
       "      <th></th>\n",
       "      <th>0</th>\n",
       "    </tr>\n",
       "  </thead>\n",
       "  <tbody>\n",
       "    <tr>\n",
       "      <th>0</th>\n",
       "      <td>1,\"pbkdf2_sha256$260000$SgIA92Ty28VLWt0HwoqLW2...</td>\n",
       "    </tr>\n",
       "    <tr>\n",
       "      <th>1</th>\n",
       "      <td>2,\"pbkdf2_sha256$260000$IaddVfjkb8gjeKUhpWnA66...</td>\n",
       "    </tr>\n",
       "    <tr>\n",
       "      <th>2</th>\n",
       "      <td>3,\"pbkdf2_sha256$260000$HOQ1h9RNBvKfnPZFELEIp8...</td>\n",
       "    </tr>\n",
       "    <tr>\n",
       "      <th>3</th>\n",
       "      <td>4,\"pbkdf2_sha256$260000$pT2dHMSQDQayHiBXePuPPN...</td>\n",
       "    </tr>\n",
       "    <tr>\n",
       "      <th>4</th>\n",
       "      <td>5,\"pbkdf2_sha256$260000$GkkLT8u0LkcK0AaYohlDDP...</td>\n",
       "    </tr>\n",
       "    <tr>\n",
       "      <th>...</th>\n",
       "      <td>...</td>\n",
       "    </tr>\n",
       "    <tr>\n",
       "      <th>89</th>\n",
       "      <td>90,\"pbkdf2_sha256$260000$IDGv5wyeIlz8uEZFzoUmK...</td>\n",
       "    </tr>\n",
       "    <tr>\n",
       "      <th>90</th>\n",
       "      <td>91,\"pbkdf2_sha256$260000$g8ZRV3SZDs0RH0Ely0Kx3...</td>\n",
       "    </tr>\n",
       "    <tr>\n",
       "      <th>91</th>\n",
       "      <td>92,\"pbkdf2_sha256$260000$wFqSAZzO4X3i2QjhuS6zB...</td>\n",
       "    </tr>\n",
       "    <tr>\n",
       "      <th>92</th>\n",
       "      <td>93,\"pbkdf2_sha256$260000$RjXqVBPbZKei31jAMZi6U...</td>\n",
       "    </tr>\n",
       "    <tr>\n",
       "      <th>93</th>\n",
       "      <td>94,\"pbkdf2_sha256$260000$uRCnu9IxNH5CFv1LE0UZv...</td>\n",
       "    </tr>\n",
       "  </tbody>\n",
       "</table>\n",
       "<p>94 rows × 1 columns</p>\n",
       "</div>"
      ],
      "text/plain": [
       "                                                    0\n",
       "0   1,\"pbkdf2_sha256$260000$SgIA92Ty28VLWt0HwoqLW2...\n",
       "1   2,\"pbkdf2_sha256$260000$IaddVfjkb8gjeKUhpWnA66...\n",
       "2   3,\"pbkdf2_sha256$260000$HOQ1h9RNBvKfnPZFELEIp8...\n",
       "3   4,\"pbkdf2_sha256$260000$pT2dHMSQDQayHiBXePuPPN...\n",
       "4   5,\"pbkdf2_sha256$260000$GkkLT8u0LkcK0AaYohlDDP...\n",
       "..                                                ...\n",
       "89  90,\"pbkdf2_sha256$260000$IDGv5wyeIlz8uEZFzoUmK...\n",
       "90  91,\"pbkdf2_sha256$260000$g8ZRV3SZDs0RH0Ely0Kx3...\n",
       "91  92,\"pbkdf2_sha256$260000$wFqSAZzO4X3i2QjhuS6zB...\n",
       "92  93,\"pbkdf2_sha256$260000$RjXqVBPbZKei31jAMZi6U...\n",
       "93  94,\"pbkdf2_sha256$260000$uRCnu9IxNH5CFv1LE0UZv...\n",
       "\n",
       "[94 rows x 1 columns]"
      ]
     },
     "execution_count": 24,
     "metadata": {},
     "output_type": "execute_result"
    }
   ],
   "source": [
    "df"
   ]
  },
  {
   "cell_type": "code",
   "execution_count": null,
   "id": "b49b67af",
   "metadata": {},
   "outputs": [],
   "source": []
  }
 ],
 "metadata": {
  "kernelspec": {
   "display_name": "Python 3 (ipykernel)",
   "language": "python",
   "name": "python3"
  },
  "language_info": {
   "codemirror_mode": {
    "name": "ipython",
    "version": 3
   },
   "file_extension": ".py",
   "mimetype": "text/x-python",
   "name": "python",
   "nbconvert_exporter": "python",
   "pygments_lexer": "ipython3",
   "version": "3.7.9"
  }
 },
 "nbformat": 4,
 "nbformat_minor": 5
}
